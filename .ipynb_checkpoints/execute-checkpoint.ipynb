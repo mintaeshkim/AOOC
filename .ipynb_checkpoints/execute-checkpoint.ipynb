{
 "cells": [
  {
   "cell_type": "code",
   "execution_count": 2,
   "id": "1d796050-dc27-4659-9676-1bd13b668aa0",
   "metadata": {},
   "outputs": [
    {
     "name": "stdout",
     "output_type": "stream",
     "text": [
      "Training until high epoch...\n"
     ]
    },
    {
     "name": "stderr",
     "output_type": "stream",
     "text": [
      "C:\\Users\\mark\\Desktop\\Deepvelop\\Anomaly_Detection\\Image\\OGNet\\model.py:156: SyntaxWarning: \"is\" with a literal. Did you mean \"==\"?\n",
      "  if checkpoint_epoch_g is -1:\n",
      "Traceback (most recent call last):\n",
      "  File \"train.py\", line 11, in <module>\n",
      "    model.train(opt.normal_class)\n",
      "  File \"C:\\Users\\mark\\Desktop\\Deepvelop\\Anomaly_Detection\\Image\\OGNet\\model.py\", line 104, in train\n",
      "    g_sum_loss.backward()\n",
      "  File \"C:\\Users\\mark\\anaconda3\\lib\\site-packages\\torch\\_tensor.py\", line 255, in backward\n",
      "    torch.autograd.backward(self, gradient, retain_graph, create_graph, inputs=inputs)\n",
      "  File \"C:\\Users\\mark\\anaconda3\\lib\\site-packages\\torch\\autograd\\__init__.py\", line 147, in backward\n",
      "    Variable._execution_engine.run_backward(\n",
      "RuntimeError: one of the variables needed for gradient computation has been modified by an inplace operation: [torch.cuda.FloatTensor [4608, 1]], which is output 0 of TBackward, is at version 2; expected version 1 instead. Hint: enable anomaly detection to find the operation that failed to compute its gradient, with torch.autograd.set_detect_anomaly(True).\n"
     ]
    }
   ],
   "source": [
    "!python train.py"
   ]
  },
  {
   "cell_type": "code",
   "execution_count": 5,
   "id": "2e350e97-8c98-42e2-932c-5c16c8e3d897",
   "metadata": {},
   "outputs": [],
   "source": [
    "!python test.py"
   ]
  },
  {
   "cell_type": "code",
   "execution_count": null,
   "id": "edaaa226-7794-4a78-868d-1b8f03679b4c",
   "metadata": {},
   "outputs": [],
   "source": []
  }
 ],
 "metadata": {
  "kernelspec": {
   "display_name": "Python 3 (ipykernel)",
   "language": "python",
   "name": "python3"
  },
  "language_info": {
   "codemirror_mode": {
    "name": "ipython",
    "version": 3
   },
   "file_extension": ".py",
   "mimetype": "text/x-python",
   "name": "python",
   "nbconvert_exporter": "python",
   "pygments_lexer": "ipython3",
   "version": "3.8.13"
  }
 },
 "nbformat": 4,
 "nbformat_minor": 5
}
